{
  "nbformat": 4,
  "nbformat_minor": 0,
  "metadata": {
    "colab": {
      "provenance": []
    },
    "kernelspec": {
      "name": "python3",
      "display_name": "Python 3"
    },
    "language_info": {
      "name": "python"
    }
  },
  "cells": [
    {
      "cell_type": "markdown",
      "source": [
        "# Task : Session 1\n",
        "Solve these questions own your own and try to test yourself what you have learned in the session.\n",
        "\n",
        "Happy Learning!"
      ],
      "metadata": {
        "id": "A05OG15VqOPF"
      }
    },
    {
      "cell_type": "markdown",
      "source": [
        "### Q1 :- Print the given strings as per stated format.\n",
        "\n",
        "**Given strings**:\n",
        "```\n",
        "\"Data\" \"Science\" \"Mentorship\" \"Program\"\n",
        "\"By\" \"CampusX\"\n",
        "```\n",
        "**Output**:\n",
        "```\n",
        "Data-Science-Mentorship-Program-started-By-CampusX\n",
        "```\n",
        "\n",
        "Concept- [Seperator and End]"
      ],
      "metadata": {
        "id": "2doIXf8bqe9_"
      }
    },
    {
      "cell_type": "code",
      "source": [
        "print(\"helo\")"
      ],
      "metadata": {
        "id": "UG7OhNBTy2LS",
        "outputId": "2806026d-83cd-4e0a-a548-e53a1750f122",
        "colab": {
          "base_uri": "https://localhost:8080/"
        }
      },
      "execution_count": 1,
      "outputs": [
        {
          "output_type": "stream",
          "name": "stdout",
          "text": [
            "helo\n"
          ]
        }
      ]
    },
    {
      "cell_type": "code",
      "source": [
        "from os import spawnl\n",
        "# Write your code here\n",
        "print(\"Data\",  \"Science\",  \"Mentorship\",  \"Program\", \"started\", \"By\", \"CampusX\", sep=\"-\")"
      ],
      "metadata": {
        "id": "-em6d3KErDtp",
        "outputId": "375c5169-260a-42bd-db64-9178abe4f2f9",
        "colab": {
          "base_uri": "https://localhost:8080/"
        }
      },
      "execution_count": 13,
      "outputs": [
        {
          "output_type": "stream",
          "name": "stdout",
          "text": [
            "Data-Science-Mentorship-Program-started-By-CampusX\n"
          ]
        }
      ]
    },
    {
      "cell_type": "markdown",
      "source": [
        "### Q2:- Write a program that will convert celsius value to fahrenheit."
      ],
      "metadata": {
        "id": "1KUpN7ZTrC3_"
      }
    },
    {
      "cell_type": "code",
      "source": [
        "# Write your code here\n",
        "#Temperature in Celsius\n",
        "Tem_C = 40\n",
        "# Formula to convert into fahrenheit\n",
        "Temp_F = Tem_C * 9/5 +32\n",
        "# Show Results\n",
        "print(Temp_F)"
      ],
      "metadata": {
        "id": "yxKYhYQiqWfj",
        "outputId": "e36a582b-d2d9-42d0-f860-d66adb8212e6",
        "colab": {
          "base_uri": "https://localhost:8080/"
        }
      },
      "execution_count": 17,
      "outputs": [
        {
          "output_type": "stream",
          "name": "stdout",
          "text": [
            "104.0\n"
          ]
        }
      ]
    },
    {
      "cell_type": "markdown",
      "source": [
        "### Q3:- Take 2 numbers as input from the user.Write a program to swap the numbers without using any special python syntax."
      ],
      "metadata": {
        "id": "RLrOBBJurLB2"
      }
    },
    {
      "cell_type": "code",
      "source": [
        "# Write your code here\n",
        "\n",
        "num1 = int(input(\"Enter 1st Number: \"))\n",
        "num2 = int(input(\"Enter 2nd Number: \"))\n",
        "Temp = num1\n",
        "num1 = num2\n",
        "num2 = Temp\n",
        "\n",
        "print(\"Value in num1:\", num1)\n",
        "print(\"Value in num2:\", num2)"
      ],
      "metadata": {
        "id": "yPn7if0TrJ4F",
        "outputId": "2a7516cb-4e44-4f90-dda2-92feabec2ecb",
        "colab": {
          "base_uri": "https://localhost:8080/"
        }
      },
      "execution_count": 28,
      "outputs": [
        {
          "output_type": "stream",
          "name": "stdout",
          "text": [
            "Enter 1st Number: 26\n",
            "Enter 2nd Number: 24\n",
            "Value in num1: 24\n",
            "Value in num2: 26\n"
          ]
        }
      ]
    },
    {
      "cell_type": "markdown",
      "source": [
        "### Q4:- Write a program to find the euclidean distance between two coordinates.Take both the coordinates from the user as input."
      ],
      "metadata": {
        "id": "waLCP1bjr7ML"
      }
    },
    {
      "cell_type": "code",
      "source": [
        "# Write your code here\n",
        "# Taking input from the user for both coordinates\n",
        "x1, y1 = map(float, input(\"Enter the coordinates of the first point (x1, y1): \").split())\n",
        "x2, y2 = map(float, input(\"Enter the coordinates of the second point (x2, y2): \").split())\n",
        "\n",
        "# Applying the Euclidean distance formula using ** for squaring and square root\n",
        "distance = ((x2 - x1)**2 + (y2 - y1)**2) ** 0.5\n",
        "\n",
        "# Displaying the result\n",
        "print(\"The Euclidean distance between is: \", distance)"
      ],
      "metadata": {
        "id": "Pl1Sv-xnrxnH",
        "outputId": "014cf80f-3d3c-4022-cc8f-f0d8dcb8cd44",
        "colab": {
          "base_uri": "https://localhost:8080/"
        }
      },
      "execution_count": 4,
      "outputs": [
        {
          "output_type": "stream",
          "name": "stdout",
          "text": [
            "Enter the coordinates of the first point (x1, y1): 3 4\n",
            "Enter the coordinates of the second point (x2, y2): 3 5\n",
            "The Euclidean distance between is:  1.0\n"
          ]
        }
      ]
    },
    {
      "cell_type": "markdown",
      "source": [
        "### Q5:- Write a program to find the simple interest when the value of principle,rate of interest and time period is provided by the user.\n"
      ],
      "metadata": {
        "id": "VLrhg-FRsHjR"
      }
    },
    {
      "cell_type": "code",
      "source": [
        "# Write your code here\n",
        "\n",
        "# Taking input from the user for principal, rate of interest, and time period\n",
        "principal = float(input(\"Enter the principal amount: \"))\n",
        "rate = float(input(\"Enter the rate of interest: \"))\n",
        "time = float(input(\"Enter the time period (in years): \"))\n",
        "\n",
        "# Calculating simple interest\n",
        "simple_interest = (principal * rate * time) / 100\n",
        "\n",
        "# Displaying the result\n",
        "print(\"The simple interest is: \", simple_interest)"
      ],
      "metadata": {
        "id": "s40DlReZsTmY",
        "outputId": "be06d710-cb30-4e72-db95-14f2b85172c1",
        "colab": {
          "base_uri": "https://localhost:8080/"
        }
      },
      "execution_count": 5,
      "outputs": [
        {
          "output_type": "stream",
          "name": "stdout",
          "text": [
            "Enter the principal amount: 1000\n",
            "Enter the rate of interest: 5\n",
            "Enter the time period (in years): 3\n",
            "The simple interest is:  150.0\n"
          ]
        }
      ]
    },
    {
      "cell_type": "markdown",
      "source": [
        "### Q6:- Write a program that will tell the number of dogs and chicken are there when the user will provide the value of total heads and legs.\n",
        "\n",
        "For example:\n",
        "Input:\n",
        "heads -> 4\n",
        "legs -> 12\n",
        "<br>\n",
        "Output:\n",
        "dogs -> 2\n",
        "chicken -> 2\n",
        "\n",
        "\n",
        "\n"
      ],
      "metadata": {
        "id": "LMy0BTUktYKa"
      }
    },
    {
      "cell_type": "code",
      "source": [
        "# Write your code here\n",
        "\n",
        "# Taking input from the user for total heads and legs\n",
        "heads = int(input(\"Enter the total number of heads: \"))\n",
        "legs = int(input(\"Enter the total number of legs: \"))\n",
        "\n",
        "chicken = (4 * heads - legs) / 2\n",
        "dogs = heads - chicken\n",
        "\n",
        "print(\"Chicken: \", chicken)\n",
        "print(\"Dogs: \", dogs)"
      ],
      "metadata": {
        "id": "XSBvJoA4tXaG",
        "outputId": "319e00fa-cd33-4bf8-e6af-3ac7444cad62",
        "colab": {
          "base_uri": "https://localhost:8080/"
        }
      },
      "execution_count": 9,
      "outputs": [
        {
          "output_type": "stream",
          "name": "stdout",
          "text": [
            "Enter the total number of heads: 4\n",
            "Enter the total number of legs: 12\n",
            "Chicken:  2.0\n",
            "Dogs:  2.0\n"
          ]
        }
      ]
    },
    {
      "cell_type": "markdown",
      "source": [
        "### Q7:- Write a program to find the sum of squares of first n\n",
        "\n",
        "*   List item\n",
        "*   List item\n",
        "\n",
        "natural numbers where n will be provided by the user."
      ],
      "metadata": {
        "id": "gJ7C5kZYt4BP"
      }
    },
    {
      "cell_type": "code",
      "source": [
        "# Write your code here\n",
        "\n",
        "# Taking input from the user for the value of n\n",
        "n = int(input(\"Enter a positive integer (n): \"))\n",
        "\n",
        "# Using the formula to calculate the sum of squares\n",
        "sum_of_squares = (n * (n + 1) * (2 * n + 1)) // 6\n",
        "\n",
        "# Displaying the result\n",
        "print(\"The sum of squares of the first {n} natural numbers is: \", sum_of_squares)"
      ],
      "metadata": {
        "id": "_tHsmEHzt2nX",
        "outputId": "a6b86543-5e50-4f73-c5bb-9090bca9de4c",
        "colab": {
          "base_uri": "https://localhost:8080/"
        }
      },
      "execution_count": 10,
      "outputs": [
        {
          "output_type": "stream",
          "name": "stdout",
          "text": [
            "Enter a positive integer (n): 5\n",
            "The sum of squares of the first {n} natural numbers is:  55\n"
          ]
        }
      ]
    },
    {
      "cell_type": "markdown",
      "source": [
        "### Q8:- Given the first 2 terms of an Arithmetic Series.Find the Nth term of the series. Assume all inputs are provided by the user."
      ],
      "metadata": {
        "id": "FHrMM7g-yG1h"
      }
    },
    {
      "cell_type": "code",
      "source": [
        "# Write your code here\n",
        "\n",
        "# Taking input from the user for the first two terms and the value of n\n",
        "a1 = float(input(\"Enter the first term (a1): \"))\n",
        "a2 = float(input(\"Enter the second term (a2): \"))\n",
        "n = int(input(\"Enter the position of the term (n): \"))\n",
        "\n",
        "# Calculating the common difference\n",
        "d = a2 - a1\n",
        "\n",
        "# Using the formula to find the nth term\n",
        "nth_term = a1 + (n - 1) * d\n",
        "\n",
        "# Displaying the result\n",
        "print(f\"The nth term of the arithmetic series is: {nth_term}\")"
      ],
      "metadata": {
        "id": "go4_kmZmyVSx",
        "outputId": "743fa481-348d-4454-caff-306d9ffb8825",
        "colab": {
          "base_uri": "https://localhost:8080/"
        }
      },
      "execution_count": 11,
      "outputs": [
        {
          "output_type": "stream",
          "name": "stdout",
          "text": [
            "Enter the first term (a1): 3\n",
            "Enter the second term (a2): 7\n",
            "Enter the position of the term (n): 4\n",
            "The nth term of the arithmetic series is: 15.0\n"
          ]
        }
      ]
    },
    {
      "cell_type": "markdown",
      "source": [
        "### Q9:- Given 2 fractions, find the sum of those 2 fractions.Take the numerator and denominator values of the fractions from the user."
      ],
      "metadata": {
        "id": "QgyRX_es1oum"
      }
    },
    {
      "cell_type": "code",
      "source": [
        "# Write your code here\n",
        "\n",
        "# Taking input for the numerator and denominator of the first fraction\n",
        "num1 = int(input(\"Enter the numerator of the first fraction: \"))\n",
        "den1 = int(input(\"Enter the denominator of the first fraction: \"))\n",
        "\n",
        "# Taking input for the numerator and denominator of the second fraction\n",
        "num2 = int(input(\"Enter the numerator of the second fraction: \"))\n",
        "den2 = int(input(\"Enter the denominator of the second fraction: \"))\n",
        "\n",
        "# Calculating the numerator and denominator of the sum\n",
        "numerator_sum = num1 * den2 + num2 * den1\n",
        "denominator_sum = den1 * den2\n",
        "\n",
        "# Simplifying the fraction using the greatest common divisor (GCD)\n",
        "def gcd(a, b):\n",
        "    while b:\n",
        "        a, b = b, a % b\n",
        "    return a\n",
        "\n",
        "# Getting the greatest common divisor\n",
        "common_divisor = gcd(numerator_sum, denominator_sum)\n",
        "\n",
        "# Reducing the fraction\n",
        "numerator_sum //= common_divisor\n",
        "denominator_sum //= common_divisor\n",
        "\n",
        "# Displaying the result\n",
        "print(f\"The sum of the fractions is: {numerator_sum}/{denominator_sum}\")"
      ],
      "metadata": {
        "id": "X05xqFS1yW16",
        "outputId": "b903a5b3-9d42-487f-e567-a31ec37d8bf6",
        "colab": {
          "base_uri": "https://localhost:8080/"
        }
      },
      "execution_count": 12,
      "outputs": [
        {
          "output_type": "stream",
          "name": "stdout",
          "text": [
            "Enter the numerator of the first fraction: 1\n",
            "Enter the denominator of the first fraction: 6\n",
            "Enter the numerator of the second fraction: 1\n",
            "Enter the denominator of the second fraction: 3\n",
            "The sum of the fractions is: 1/2\n"
          ]
        }
      ]
    },
    {
      "cell_type": "markdown",
      "source": [
        "### Q10:- Given the height, width and breadth of a milk tank, you have to find out how many glasses of milk can be obtained? Assume all the inputs are provided by the user.\n",
        "\n",
        "\n",
        "\n",
        "Input:<br>\n",
        "Dimensions of the milk tank<br>\n",
        "H = 20cm, L = 20cm, B = 20cm\n",
        "<br><br>\n",
        "Dimensions of the glass<br>\n",
        "h = 3cm, r = 1cm"
      ],
      "metadata": {
        "id": "eaql38ln13u7"
      }
    },
    {
      "cell_type": "code",
      "source": [
        "# Write your code here\n",
        "\n",
        "# Taking inputs for the dimensions of the milk tank\n",
        "H = float(input(\"Enter the height of the milk tank (cm): \"))\n",
        "L = float(input(\"Enter the length of the milk tank (cm): \"))\n",
        "B = float(input(\"Enter the breadth of the milk tank (cm): \"))\n",
        "\n",
        "# Taking inputs for the dimensions of the glass\n",
        "h = float(input(\"Enter the height of the glass (cm): \"))\n",
        "r = float(input(\"Enter the radius of the glass (cm): \"))\n",
        "\n",
        "# Calculating the volume of the milk tank (cuboid)\n",
        "volume_tank = H * L * B\n",
        "\n",
        "# Calculating the volume of the glass (cylinder)\n",
        "pi = 3.14162\n",
        "volume_glass = pi * r**2 * h\n",
        "\n",
        "# Calculating the number of glasses of milk\n",
        "number_of_glasses = volume_tank // volume_glass  # Using floor division to get a whole number\n",
        "\n",
        "# Displaying the result\n",
        "print(f\"The number of glasses of milk that can be obtained is: {int(number_of_glasses)}\")"
      ],
      "metadata": {
        "id": "FePZqno74eWv",
        "outputId": "8147078b-e245-429d-b481-7bbd7583d686",
        "colab": {
          "base_uri": "https://localhost:8080/"
        }
      },
      "execution_count": 14,
      "outputs": [
        {
          "output_type": "stream",
          "name": "stdout",
          "text": [
            "Enter the height of the milk tank (cm): 20\n",
            "Enter the length of the milk tank (cm): 20\n",
            "Enter the breadth of the milk tank (cm): 20\n",
            "Enter the height of the glass (cm): 3\n",
            "Enter the radius of the glass (cm): 1\n",
            "The number of glasses of milk that can be obtained is: 848\n"
          ]
        }
      ]
    }
  ]
}