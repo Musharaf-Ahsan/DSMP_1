{
 "cells": [
  {
   "cell_type": "markdown",
   "metadata": {},
   "source": [
    "## **Operators in Python**\n",
    "\n",
    "- Arithmetic Operators\n",
    "- Relational Operators\n",
    "- Logical Operators\n",
    "- Bitwise Operators\n",
    "- Assignment Operators\n",
    "- Membership Operators"
   ]
  },
  {
   "cell_type": "markdown",
   "metadata": {},
   "source": [
    "# **Arithmetic Opeartors**"
   ]
  },
  {
   "cell_type": "code",
   "execution_count": null,
   "metadata": {},
   "outputs": [],
   "source": [
    "# Addition\n",
    "print(1+19)\n",
    "\n",
    "# Sibtraction\n",
    "print(20-12)\n",
    "\n",
    "# Multiply\n",
    "print(20*2)\n",
    "\n",
    "# Division\n",
    "print(12/2)\n",
    "\n",
    "# Integer Division\n",
    "print(32//4)\n",
    "\n",
    "# Modulus or Remider\n",
    "print(10%3)\n",
    "\n",
    "# Power\n",
    "print(5**3)"
   ]
  },
  {
   "cell_type": "markdown",
   "metadata": {},
   "source": [
    "# **Relational Operators**"
   ]
  },
  {
   "cell_type": "code",
   "execution_count": null,
   "metadata": {},
   "outputs": [],
   "source": [
    "# Greater than\n",
    "print(4>5)\n",
    "\n",
    "#less than\n",
    "print(4<5)\n",
    "\n",
    "# greater than or equal to\n",
    "print(4>=5)\n",
    "\n",
    "# less than or equal to\n",
    "print(4<=5)\n",
    "\n",
    "# equal too\n",
    "print(4==4)\n",
    "\n",
    "# not equal to\n",
    "print(4!=6)"
   ]
  },
  {
   "cell_type": "markdown",
   "metadata": {},
   "source": [
    "# **Logical Operators**\n"
   ]
  },
  {
   "cell_type": "code",
   "execution_count": null,
   "metadata": {},
   "outputs": [],
   "source": [
    "# AND\n",
    "print(1 and 0)\n",
    "\n",
    "# OR\n",
    "\n",
    "print(1 or 0)\n",
    "\n",
    "# NOT\n",
    "print(not 0)"
   ]
  },
  {
   "cell_type": "markdown",
   "metadata": {},
   "source": [
    "0 is treated as False in a boolean context in Python.\n",
    "\n",
    "not 0 means \"negate the boolean value of 0\".\n",
    "\n",
    "Since 0 is False, not 0 becomes True."
   ]
  },
  {
   "cell_type": "markdown",
   "metadata": {},
   "source": [
    "# **Bitwise Operators**"
   ]
  },
  {
   "cell_type": "code",
   "execution_count": null,
   "metadata": {},
   "outputs": [],
   "source": [
    "# Bitwise and\n",
    "print(2 & 3)\n",
    "\n",
    "# Bitwise or\n",
    "print(2 | 3)\n",
    "\n",
    "# Bitwise XOR\n",
    "print(2 ^ 3)"
   ]
  },
  {
   "cell_type": "markdown",
   "metadata": {},
   "source": [
    "# **Assignment Operators**"
   ]
  },
  {
   "cell_type": "code",
   "execution_count": 20,
   "metadata": {},
   "outputs": [
    {
     "data": {
      "text/plain": [
       "0"
      ]
     },
     "execution_count": 20,
     "metadata": {},
     "output_type": "execute_result"
    }
   ],
   "source": [
    "a = 2\n",
    "\n",
    "a += 2\n",
    "\n",
    "a %= 2\n",
    "\n",
    "a\n"
   ]
  },
  {
   "cell_type": "markdown",
   "metadata": {},
   "source": [
    "# **Membership Operators**\n",
    "\n",
    "`in` and `not in`"
   ]
  },
  {
   "cell_type": "code",
   "execution_count": 23,
   "metadata": {},
   "outputs": [
    {
     "name": "stdout",
     "output_type": "stream",
     "text": [
      "True\n",
      "False\n"
     ]
    }
   ],
   "source": [
    "print('P' in 'Pakistan')\n",
    "\n",
    "print(2 not in [2, 3, 34, 5])"
   ]
  },
  {
   "cell_type": "markdown",
   "metadata": {},
   "source": [
    "## **Program - Find the sum of a 3 digit number entered by the user**"
   ]
  },
  {
   "cell_type": "code",
   "execution_count": 3,
   "metadata": {},
   "outputs": [
    {
     "name": "stdout",
     "output_type": "stream",
     "text": [
      "User input is:  567\n",
      "Sum of entered numbers is:  18\n"
     ]
    }
   ],
   "source": [
    "num = int(input('Enter a 3 digit number: '))\n",
    "print(\"User input is: \",num)\n",
    "# 789%10 -> 9\n",
    "a = num%10\n",
    "\n",
    "# Update num\n",
    "num = num//10\n",
    "\n",
    "# 78 -> 8\n",
    "b = num % 10\n",
    "\n",
    "# Update num\n",
    "num = num//10\n",
    "\n",
    "print(\"Sum of entered numbers is: \", a+b+num)\n",
    "\n"
   ]
  }
 ],
 "metadata": {
  "kernelspec": {
   "display_name": "Python 3",
   "language": "python",
   "name": "python3"
  },
  "language_info": {
   "codemirror_mode": {
    "name": "ipython",
    "version": 3
   },
   "file_extension": ".py",
   "mimetype": "text/x-python",
   "name": "python",
   "nbconvert_exporter": "python",
   "pygments_lexer": "ipython3",
   "version": "3.13.1"
  }
 },
 "nbformat": 4,
 "nbformat_minor": 2
}
