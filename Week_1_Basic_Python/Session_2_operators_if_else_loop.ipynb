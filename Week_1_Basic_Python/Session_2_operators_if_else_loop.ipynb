{
 "cells": [
  {
   "cell_type": "markdown",
   "metadata": {},
   "source": [
    "## **Operators in Python**\n",
    "\n",
    "- Arithmetic Operators\n",
    "- Relational Operators\n",
    "- Logical Operators\n",
    "- Bitwise Operators\n",
    "- Assignment Operators\n",
    "- Membership Operators"
   ]
  },
  {
   "cell_type": "markdown",
   "metadata": {},
   "source": [
    "# **Arithmetic Opeartors**"
   ]
  },
  {
   "cell_type": "code",
   "execution_count": null,
   "metadata": {},
   "outputs": [],
   "source": [
    "# Addition\n",
    "print(1+19)\n",
    "\n",
    "# Sibtraction\n",
    "print(20-12)\n",
    "\n",
    "# Multiply\n",
    "print(20*2)\n",
    "\n",
    "# Division\n",
    "print(12/2)\n",
    "\n",
    "# Integer Division\n",
    "print(32//4)\n",
    "\n",
    "# Modulus or Remider\n",
    "print(10%3)\n",
    "\n",
    "# Power\n",
    "print(5**3)"
   ]
  },
  {
   "cell_type": "markdown",
   "metadata": {},
   "source": [
    "# **Relational Operators**"
   ]
  },
  {
   "cell_type": "code",
   "execution_count": null,
   "metadata": {},
   "outputs": [],
   "source": [
    "# Greater than\n",
    "print(4>5)\n",
    "\n",
    "#less than\n",
    "print(4<5)\n",
    "\n",
    "# greater than or equal to\n",
    "print(4>=5)\n",
    "\n",
    "# less than or equal to\n",
    "print(4<=5)\n",
    "\n",
    "# equal too\n",
    "print(4==4)\n",
    "\n",
    "# not equal to\n",
    "print(4!=6)"
   ]
  },
  {
   "cell_type": "markdown",
   "metadata": {},
   "source": [
    "# **Logical Operators**\n"
   ]
  },
  {
   "cell_type": "code",
   "execution_count": null,
   "metadata": {},
   "outputs": [],
   "source": [
    "# AND\n",
    "print(1 and 0)\n",
    "\n",
    "# OR\n",
    "\n",
    "print(1 or 0)\n",
    "\n",
    "# NOT\n",
    "print(not 0)"
   ]
  },
  {
   "cell_type": "markdown",
   "metadata": {},
   "source": [
    "0 is treated as False in a boolean context in Python.\n",
    "\n",
    "not 0 means \"negate the boolean value of 0\".\n",
    "\n",
    "Since 0 is False, not 0 becomes True."
   ]
  },
  {
   "cell_type": "markdown",
   "metadata": {},
   "source": [
    "# **Bitwise Operators**"
   ]
  },
  {
   "cell_type": "code",
   "execution_count": 1,
   "metadata": {},
   "outputs": [
    {
     "name": "stdout",
     "output_type": "stream",
     "text": [
      "2\n",
      "3\n",
      "1\n"
     ]
    }
   ],
   "source": [
    "# Bitwise and\n",
    "print(2 & 3)\n",
    "\n",
    "# Bitwise or\n",
    "print(2 | 3)\n",
    "\n",
    "# Bitwise XOR\n",
    "print(2 ^ 3)"
   ]
  },
  {
   "cell_type": "markdown",
   "metadata": {},
   "source": [
    "# **Assignment Operators**"
   ]
  },
  {
   "cell_type": "code",
   "execution_count": null,
   "metadata": {},
   "outputs": [
    {
     "data": {
      "text/plain": [
       "4"
      ]
     },
     "execution_count": 3,
     "metadata": {},
     "output_type": "execute_result"
    }
   ],
   "source": [
    "a = 2\n",
    "\n",
    "a += 2\n",
    "\n",
    "a %= 2\n",
    "\n",
    "a\n"
   ]
  },
  {
   "cell_type": "markdown",
   "metadata": {},
   "source": [
    "# **Membership Operators**\n",
    "\n",
    "`in` and `not in`"
   ]
  },
  {
   "cell_type": "code",
   "execution_count": 23,
   "metadata": {},
   "outputs": [
    {
     "name": "stdout",
     "output_type": "stream",
     "text": [
      "True\n",
      "False\n"
     ]
    }
   ],
   "source": [
    "print('P' in 'Pakistan')\n",
    "\n",
    "print(2 not in [2, 3, 34, 5])"
   ]
  },
  {
   "cell_type": "markdown",
   "metadata": {},
   "source": [
    "## **Program -> Sum of all digits of a given number**"
   ]
  },
  {
   "cell_type": "code",
   "execution_count": 3,
   "metadata": {},
   "outputs": [
    {
     "name": "stdout",
     "output_type": "stream",
     "text": [
      "User input is:  567\n",
      "Sum of entered numbers is:  18\n"
     ]
    }
   ],
   "source": [
    "num = int(input('Enter a 3 digit number: '))\n",
    "print(\"User input is: \",num)\n",
    "# 789%10 -> 9\n",
    "a = num%10\n",
    "\n",
    "# Update num\n",
    "num = num//10\n",
    "\n",
    "# 78 -> 8\n",
    "b = num % 10\n",
    "\n",
    "# Update num\n",
    "num = num//10\n",
    "\n",
    "print(\"Sum of entered numbers is: \", a+b+num)\n",
    "\n"
   ]
  },
  {
   "cell_type": "markdown",
   "metadata": {},
   "source": [
    "# **If-else in Python**\n",
    "\n",
    "# **login program and indentation**\n",
    "# email -> musharaf@gmail.com\n",
    "# password -> 1234\n"
   ]
  },
  {
   "cell_type": "code",
   "execution_count": 4,
   "metadata": {},
   "outputs": [
    {
     "name": "stdout",
     "output_type": "stream",
     "text": [
      "Welcome\n"
     ]
    }
   ],
   "source": [
    "email = input('enter email')\n",
    "password = input('enter password')\n",
    "\n",
    "if email == 'musharaf@gmail.com' and password == '1234':\n",
    "  print('Welcome')\n",
    "elif email == 'musharaf@gmail.com' and password != '1234':\n",
    "  # tell the user\n",
    "  print('Incorrect password')\n",
    "  password = input('enter password again')\n",
    "  if password == '1234':\n",
    "    print('Welcome,finally!')\n",
    "  else:\n",
    "    print('beta tumse na ho paayega!')\n",
    "else:\n",
    "  print('Not correct')"
   ]
  },
  {
   "cell_type": "markdown",
   "metadata": {},
   "source": [
    "# if-else examples\n",
    "### **1. Find the min of 3 given numbers**\n"
   ]
  },
  {
   "cell_type": "code",
   "execution_count": 6,
   "metadata": {},
   "outputs": [
    {
     "name": "stdout",
     "output_type": "stream",
     "text": [
      "smallest is 34\n"
     ]
    }
   ],
   "source": [
    "# min of 3 number\n",
    "\n",
    "a = int(input('first num'))\n",
    "b = int(input('second num'))\n",
    "c = int(input('third num'))\n",
    "\n",
    "if a<b and a<c:\n",
    "  print('smallest is',a)\n",
    "elif b<c:\n",
    "  print('smallest is',b)\n",
    "else:\n",
    "  print('smallest is',c)"
   ]
  },
  {
   "cell_type": "markdown",
   "metadata": {},
   "source": [
    "### **2. Menu Driven Program**"
   ]
  },
  {
   "cell_type": "code",
   "execution_count": null,
   "metadata": {},
   "outputs": [],
   "source": [
    "# menu driven calculator\n",
    "menu = input(\"\"\"\n",
    "Hi! how can I help you.\n",
    "1. Enter 1 for pin change\n",
    "2. Enter 2 for balance check\n",
    "3. Enter 3 for withdrawl\n",
    "4. Enter 4 for exit\n",
    "\"\"\")\n",
    "\n",
    "if menu == '1':\n",
    "  print('pin change')\n",
    "elif menu == '2':\n",
    "  print('balance')\n",
    "else:\n",
    "  print('exit')"
   ]
  },
  {
   "cell_type": "markdown",
   "metadata": {},
   "source": [
    "## **Modules in Python**\n",
    "\n",
    "- math\n",
    "- keywords\n",
    "- random\n",
    "- datetime"
   ]
  },
  {
   "cell_type": "code",
   "execution_count": 7,
   "metadata": {},
   "outputs": [
    {
     "data": {
      "text/plain": [
       "14.0"
      ]
     },
     "execution_count": 7,
     "metadata": {},
     "output_type": "execute_result"
    }
   ],
   "source": [
    "# math\n",
    "import math\n",
    "\n",
    "math.sqrt(196)"
   ]
  },
  {
   "cell_type": "code",
   "execution_count": 8,
   "metadata": {},
   "outputs": [
    {
     "name": "stdout",
     "output_type": "stream",
     "text": [
      "['False', 'None', 'True', 'and', 'as', 'assert', 'async', 'await', 'break', 'class', 'continue', 'def', 'del', 'elif', 'else', 'except', 'finally', 'for', 'from', 'global', 'if', 'import', 'in', 'is', 'lambda', 'nonlocal', 'not', 'or', 'pass', 'raise', 'return', 'try', 'while', 'with', 'yield']\n"
     ]
    }
   ],
   "source": [
    "# keyword\n",
    "import keyword\n",
    "print(keyword.kwlist)"
   ]
  },
  {
   "cell_type": "code",
   "execution_count": 9,
   "metadata": {},
   "outputs": [
    {
     "name": "stdout",
     "output_type": "stream",
     "text": [
      "77\n"
     ]
    }
   ],
   "source": [
    "# random\n",
    "import random\n",
    "print(random.randint(1,100))"
   ]
  },
  {
   "cell_type": "code",
   "execution_count": 10,
   "metadata": {},
   "outputs": [
    {
     "name": "stdout",
     "output_type": "stream",
     "text": [
      "2025-03-26 01:33:28.230433\n"
     ]
    }
   ],
   "source": [
    "# datetime\n",
    "import datetime\n",
    "print(datetime.datetime.now())"
   ]
  },
  {
   "cell_type": "code",
   "execution_count": 11,
   "metadata": {},
   "outputs": [
    {
     "name": "stdout",
     "output_type": "stream",
     "text": [
      "\n",
      "Please wait a moment while I gather a list of all available modules...\n",
      "\n",
      "test_sqlite3: testing with SQLite version 3.45.3\n",
      "IPython             ast                 math                string\n",
      "PIL                 asttokens           matplotlib          stringprep\n",
      "PyPDF2              asyncio             matplotlib_inline   struct\n",
      "__future__          atexit              mimetypes           subprocess\n",
      "__hello__           attr                mmap                symtable\n",
      "__phello__          attrs               mmapfile            sys\n",
      "_abc                base64              mmsystem            sysconfig\n",
      "_aix_support        bdb                 modulefinder        tabnanny\n",
      "_android_support    binascii            msvcrt              tarfile\n",
      "_ast                bisect              multiprocessing     tempfile\n",
      "_asyncio            bs4                 nest_asyncio        test\n",
      "_bisect             builtins            netbios             textwrap\n",
      "_blake2             bz2                 netrc               this\n",
      "_bz2                cProfile            nt                  threading\n",
      "_cffi_backend       calendar            ntpath              threadpoolctl\n",
      "_codecs             certifi             ntsecuritycon       time\n",
      "_codecs_cn          cffi                nturl2path          timeit\n",
      "_codecs_hk          charset_normalizer  numbers             timer\n",
      "_codecs_iso2022     cmath               numpy               tkinter\n",
      "_codecs_jp          cmd                 odbc                token\n",
      "_codecs_kr          code                opcode              tokenize\n",
      "_codecs_tw          codecs              openpyxl            tomllib\n",
      "_collections        codeop              operator            tornado\n",
      "_collections_abc    collections         optparse            trace\n",
      "_colorize           colorama            os                  traceback\n",
      "_compat_pickle      colorsys            outcome             tracemalloc\n",
      "_compression        comm                packaging           traitlets\n",
      "_contextvars        commctrl            pandas              trio\n",
      "_csv                compileall          parso               trio_websocket\n",
      "_ctypes             concurrent          pathlib             tty\n",
      "_ctypes_test        configparser        pdb                 turtle\n",
      "_datetime           contextlib          pdf2image           turtledemo\n",
      "_decimal            contextvars         pdfminer            types\n",
      "_elementtree        contourpy           pdfplumber          typing\n",
      "_functools          copy                perfmon             typing_extensions\n",
      "_hashlib            copyreg             pickle              tzdata\n",
      "_heapq              cryptography        pickletools         unicodedata\n",
      "_imp                csv                 pip                 unittest\n",
      "_interpchannels     ctypes              pkgutil             urllib\n",
      "_interpqueues       curses              platform            urllib3\n",
      "_interpreters       cycler              platformdirs        uuid\n",
      "_io                 dataclasses         plistlib            venv\n",
      "_ios_support        datetime            poplib              warnings\n",
      "_json               dateutil            posixpath           wave\n",
      "_locale             dbm                 pprint              wcwidth\n",
      "_lsprof             dde                 profile             weakref\n",
      "_lzma               debugpy             prompt_toolkit      webbrowser\n",
      "_markupbase         decimal             pstats              webdriver_manager\n",
      "_md5                decorator           psutil              websocket\n",
      "_multibytecodec     difflib             pty                 win2kras\n",
      "_multiprocessing    dis                 pure_eval           win32api\n",
      "_opcode             doctest             py_compile          win32clipboard\n",
      "_opcode_metadata    dotenv              pyclbr              win32com\n",
      "_operator           email               pycparser           win32con\n",
      "_osx_support        encodings           pydoc               win32console\n",
      "_overlapped         ensurepip           pydoc_data          win32cred\n",
      "_pickle             enum                pyexpat             win32crypt\n",
      "_py_abc             errno               pygments            win32cryptcon\n",
      "_pydatetime         et_xmlfile          pylab               win32event\n",
      "_pydecimal          executing           pyparsing           win32evtlog\n",
      "_pyio               faulthandler        pypdfium2           win32evtlogutil\n",
      "_pylong             filecmp             pypdfium2_raw       win32file\n",
      "_pyrepl             fileinput           pytesseract         win32gui\n",
      "_queue              fnmatch             pythoncom           win32gui_struct\n",
      "_random             fontTools           pytz                win32help\n",
      "_sha1               fractions           pywin               win32inet\n",
      "_sha2               ftplib              pywin32_bootstrap   win32inetcon\n",
      "_sha3               functools           pywin32_testutil    win32job\n",
      "_signal             gc                  pywintypes          win32lz\n",
      "_sitebuiltins       genericpath         queue               win32net\n",
      "_socket             getopt              quopri              win32netcon\n",
      "_sqlite3            getpass             random              win32pdh\n",
      "_sre                gettext             rasutil             win32pdhquery\n",
      "_ssl                glob                re                  win32pdhutil\n",
      "_stat               googletrans         regcheck            win32pipe\n",
      "_statistics         graphlib            regutil             win32print\n",
      "_string             gzip                reprlib             win32process\n",
      "_strptime           h11                 requests            win32profile\n",
      "_struct             h2                  rlcompleter         win32ras\n",
      "_symtable           hashlib             runpy               win32rcparser\n",
      "_sysconfig          heapq               sched               win32security\n",
      "_testbuffer         hmac                scipy               win32service\n",
      "_testcapi           hpack               seaborn             win32serviceutil\n",
      "_testclinic         html                secrets             win32timezone\n",
      "_testclinic_limited http                select              win32trace\n",
      "_testconsole        httpcore            selectors           win32traceutil\n",
      "_testimportmultiple httpx               selenium            win32transaction\n",
      "_testinternalcapi   hyperframe          servicemanager      win32ts\n",
      "_testlimitedcapi    idlelib             shelve              win32ui\n",
      "_testmultiphase     idna                shlex               win32uiole\n",
      "_testsinglephase    imaplib             shutil              win32verstamp\n",
      "_thread             importlib           signal              win32wnet\n",
      "_threading_local    inspect             site                winerror\n",
      "_tkinter            io                  six                 winioctlcon\n",
      "_tokenize           ipaddress           sklearn             winnt\n",
      "_tracemalloc        ipykernel           smtplib             winperf\n",
      "_typing             ipykernel_launcher  sniffio             winreg\n",
      "_uuid               isapi               socket              winsound\n",
      "_warnings           itertools           socketserver        winxpgui\n",
      "_weakref            jedi                socks               winxptheme\n",
      "_weakrefset         joblib              sockshandler        wsgiref\n",
      "_win32sysloader     json                sortedcontainers    wsproto\n",
      "_win32verstamp_pywin32ctypes jupyter             soupsieve           xml\n",
      "_winapi             jupyter_client      sqlite3             xmlrpc\n",
      "_winxptheme         jupyter_core        sre_compile         xxsubtype\n",
      "_wmi                keyword             sre_constants       zipapp\n",
      "_zoneinfo           kiwisolver          sre_parse           zipfile\n",
      "abc                 linecache           ssl                 zipimport\n",
      "adodbapi            locale              sspi                zlib\n",
      "afxres              logging             sspicon             zmq\n",
      "antigravity         lxml                stack_data          zoneinfo\n",
      "anyio               lzma                start_pythonwin     \n",
      "argparse            mailbox             stat                \n",
      "array               marshal             statistics          \n",
      "\n",
      "Enter any module name to get more help.  Or, type \"modules spam\" to search\n",
      "for modules whose name or summary contain the string \"spam\".\n",
      "\n"
     ]
    }
   ],
   "source": [
    "help('modules')"
   ]
  },
  {
   "cell_type": "markdown",
   "metadata": {},
   "source": [
    "## **Loops in Python**\n",
    "\n",
    "- Need for loops\n",
    "- While Loop\n",
    "- For Loop"
   ]
  },
  {
   "cell_type": "markdown",
   "metadata": {},
   "source": [
    "## **While loop example -> program to print the table**"
   ]
  },
  {
   "cell_type": "code",
   "execution_count": 12,
   "metadata": {},
   "outputs": [
    {
     "name": "stdout",
     "output_type": "stream",
     "text": [
      "8 * 1 = 8\n",
      "8 * 2 = 16\n",
      "8 * 3 = 24\n",
      "8 * 4 = 32\n",
      "8 * 5 = 40\n",
      "8 * 6 = 48\n",
      "8 * 7 = 56\n",
      "8 * 8 = 64\n",
      "8 * 9 = 72\n",
      "8 * 10 = 80\n"
     ]
    }
   ],
   "source": [
    "number = int(input('enter the number'))\n",
    "\n",
    "i = 1\n",
    "\n",
    "while i<11:\n",
    "  print(number,'*',i,'=',number * i)\n",
    "  i += 1"
   ]
  },
  {
   "cell_type": "code",
   "execution_count": 13,
   "metadata": {},
   "outputs": [
    {
     "name": "stdout",
     "output_type": "stream",
     "text": [
      "1\n",
      "2\n",
      "limit crossed\n"
     ]
    }
   ],
   "source": [
    "# while loop with else\n",
    "\n",
    "x = 1\n",
    "\n",
    "while x < 3:\n",
    "  print(x)\n",
    "  x += 1\n",
    "\n",
    "else:\n",
    "  print('limit crossed')"
   ]
  },
  {
   "cell_type": "code",
   "execution_count": 14,
   "metadata": {},
   "outputs": [
    {
     "name": "stdout",
     "output_type": "stream",
     "text": [
      "galat!guess higher\n",
      "galat!guess lower\n",
      "galat!guess lower\n",
      "galat!guess higher\n",
      "galat!guess lower\n",
      "galat!guess higher\n",
      "galat!guess higher\n",
      "correct guess\n",
      "attempts 8\n"
     ]
    }
   ],
   "source": [
    "# Guessing game\n",
    "\n",
    "# generate a random integer between 1 and 100\n",
    "import random\n",
    "jackpot = random.randint(1,100)\n",
    "\n",
    "guess = int(input('guess karo'))\n",
    "counter = 1\n",
    "while guess != jackpot:\n",
    "  if guess < jackpot:\n",
    "    print('galat!guess higher')\n",
    "  else:\n",
    "    print('galat!guess lower')\n",
    "\n",
    "  guess = int(input('guess karo'))\n",
    "  counter += 1\n",
    "\n",
    "else:\n",
    "  print('correct guess')\n",
    "  print('attempts',counter)"
   ]
  },
  {
   "cell_type": "code",
   "execution_count": 15,
   "metadata": {},
   "outputs": [
    {
     "name": "stdout",
     "output_type": "stream",
     "text": [
      "1\n",
      "2\n",
      "3\n",
      "4\n",
      "5\n"
     ]
    }
   ],
   "source": [
    "# For loop demo\n",
    "\n",
    "for i in {1,2,3,4,5}:\n",
    "  print(i)"
   ]
  },
  {
   "cell_type": "markdown",
   "metadata": {},
   "source": [
    "# **For loop examples**\n",
    "\n",
    "### Program - The current population of a town is 10000. The population of the town is increasing at the rate of 10% per year. You have to write a program to find out the population at the end of each of the last 10 years."
   ]
  },
  {
   "cell_type": "code",
   "execution_count": 18,
   "metadata": {},
   "outputs": [
    {
     "name": "stdout",
     "output_type": "stream",
     "text": [
      "10 10000\n",
      "9 9000.0\n",
      "8 8100.0\n",
      "7 7290.0\n",
      "6 6561.0\n",
      "5 5904.9\n",
      "4 5314.41\n",
      "3 4782.969\n",
      "2 4304.6721\n",
      "1 3874.20489\n"
     ]
    }
   ],
   "source": [
    "# Code Used in the session\n",
    "curr_pop = 10000\n",
    "\n",
    "for i in range(10,0,-1):\n",
    "  print(i,curr_pop)\n",
    "  curr_pop = curr_pop - 0.1*curr_pop\n"
   ]
  },
  {
   "cell_type": "code",
   "execution_count": 19,
   "metadata": {},
   "outputs": [
    {
     "name": "stdout",
     "output_type": "stream",
     "text": [
      "10 10000\n",
      "9 9090.90909090909\n",
      "8 8264.462809917353\n",
      "7 7513.148009015775\n",
      "6 6830.134553650703\n",
      "5 6209.213230591548\n",
      "4 5644.739300537771\n",
      "3 5131.5811823070635\n",
      "2 4665.07380209733\n",
      "1 4240.976183724845\n"
     ]
    }
   ],
   "source": [
    "# Correct Answer of above question:\n",
    "curr_pop = 10000\n",
    "\n",
    "for i in range(10,0,-1):\n",
    "  print(i,curr_pop)\n",
    "  curr_pop /= 1.1\n"
   ]
  },
  {
   "cell_type": "markdown",
   "metadata": {},
   "source": [
    "####** Explanation :**\n",
    "\n",
    "\n",
    "\n",
    "To calculate the population for each year with a 10% increase, you can use a simpler equation based on the previous year's population. Let's assume the population of the previous year is represented by variable x.\n",
    "\n",
    "The equation can be written as:\n",
    "\n",
    "> Current Year Population = x * 1.1\n",
    "\n",
    "In this equation, the current year's population is equal to the previous year's population multiplied by 1.1, representing a 10% increase.\n",
    "\n",
    "To find the population of the previous year (x), we can rearrange the equation as follows:\n",
    "\n",
    "> x = Current Year Population / 1.1\n",
    "\n",
    "Using this simplified equation, if you have the current year's population (e.g., 10,000), you can divide it by 1.1 to calculate the population of the previous year.\n",
    "\n",
    "This equation allows you to calculate the population for each year, assuming you know the population of the current year and want to find the population of the previous year."
   ]
  }
 ],
 "metadata": {
  "kernelspec": {
   "display_name": "Python 3",
   "language": "python",
   "name": "python3"
  },
  "language_info": {
   "codemirror_mode": {
    "name": "ipython",
    "version": 3
   },
   "file_extension": ".py",
   "mimetype": "text/x-python",
   "name": "python",
   "nbconvert_exporter": "python",
   "pygments_lexer": "ipython3",
   "version": "3.13.1"
  }
 },
 "nbformat": 4,
 "nbformat_minor": 2
}
